{
 "cells": [
  {
   "cell_type": "code",
   "execution_count": 1,
   "id": "6a189445",
   "metadata": {
    "_cell_guid": "b1076dfc-b9ad-4769-8c92-a6c4dae69d19",
    "_uuid": "8f2839f25d086af736a60e9eeb907d3b93b6e0e5",
    "execution": {
     "iopub.execute_input": "2024-02-15T07:27:41.768614Z",
     "iopub.status.busy": "2024-02-15T07:27:41.767828Z",
     "iopub.status.idle": "2024-02-15T07:27:42.705892Z",
     "shell.execute_reply": "2024-02-15T07:27:42.704285Z"
    },
    "papermill": {
     "duration": 0.947541,
     "end_time": "2024-02-15T07:27:42.708277",
     "exception": false,
     "start_time": "2024-02-15T07:27:41.760736",
     "status": "completed"
    },
    "tags": []
   },
   "outputs": [
    {
     "name": "stdout",
     "output_type": "stream",
     "text": [
      "/kaggle/input/titanic/train.csv\n",
      "/kaggle/input/titanic/test.csv\n",
      "/kaggle/input/titanic/gender_submission.csv\n"
     ]
    }
   ],
   "source": [
    "# This Python 3 environment comes with many helpful analytics libraries installed\n",
    "# It is defined by the kaggle/python Docker image: https://github.com/kaggle/docker-python\n",
    "# For example, here's several helpful packages to load\n",
    "\n",
    "import numpy as np # linear algebra\n",
    "import pandas as pd # data processing, CSV file I/O (e.g. pd.read_csv)\n",
    "\n",
    "# Input data files are available in the read-only \"../input/\" directory\n",
    "# For example, running this (by clicking run or pressing Shift+Enter) will list all files under the input directory\n",
    "\n",
    "import os\n",
    "for dirname, _, filenames in os.walk('/kaggle/input'):\n",
    "    for filename in filenames:\n",
    "        print(os.path.join(dirname, filename))\n",
    "\n",
    "# You can write up to 20GB to the current directory (/kaggle/working/) that gets preserved as output when you create a version using \"Save & Run All\" \n",
    "# You can also write temporary files to /kaggle/temp/, but they won't be saved outside of the current session"
   ]
  },
  {
   "cell_type": "code",
   "execution_count": 2,
   "id": "a4bb0fc4",
   "metadata": {
    "execution": {
     "iopub.execute_input": "2024-02-15T07:27:42.717039Z",
     "iopub.status.busy": "2024-02-15T07:27:42.716523Z",
     "iopub.status.idle": "2024-02-15T07:27:42.753104Z",
     "shell.execute_reply": "2024-02-15T07:27:42.751940Z"
    },
    "papermill": {
     "duration": 0.043765,
     "end_time": "2024-02-15T07:27:42.755748",
     "exception": false,
     "start_time": "2024-02-15T07:27:42.711983",
     "status": "completed"
    },
    "tags": []
   },
   "outputs": [
    {
     "data": {
      "text/html": [
       "<div>\n",
       "<style scoped>\n",
       "    .dataframe tbody tr th:only-of-type {\n",
       "        vertical-align: middle;\n",
       "    }\n",
       "\n",
       "    .dataframe tbody tr th {\n",
       "        vertical-align: top;\n",
       "    }\n",
       "\n",
       "    .dataframe thead th {\n",
       "        text-align: right;\n",
       "    }\n",
       "</style>\n",
       "<table border=\"1\" class=\"dataframe\">\n",
       "  <thead>\n",
       "    <tr style=\"text-align: right;\">\n",
       "      <th></th>\n",
       "      <th>PassengerId</th>\n",
       "      <th>Survived</th>\n",
       "      <th>Pclass</th>\n",
       "      <th>Name</th>\n",
       "      <th>Sex</th>\n",
       "      <th>Age</th>\n",
       "      <th>SibSp</th>\n",
       "      <th>Parch</th>\n",
       "      <th>Ticket</th>\n",
       "      <th>Fare</th>\n",
       "      <th>Cabin</th>\n",
       "      <th>Embarked</th>\n",
       "    </tr>\n",
       "  </thead>\n",
       "  <tbody>\n",
       "    <tr>\n",
       "      <th>0</th>\n",
       "      <td>1</td>\n",
       "      <td>0</td>\n",
       "      <td>3</td>\n",
       "      <td>Braund, Mr. Owen Harris</td>\n",
       "      <td>male</td>\n",
       "      <td>22.0</td>\n",
       "      <td>1</td>\n",
       "      <td>0</td>\n",
       "      <td>A/5 21171</td>\n",
       "      <td>7.2500</td>\n",
       "      <td>NaN</td>\n",
       "      <td>S</td>\n",
       "    </tr>\n",
       "    <tr>\n",
       "      <th>1</th>\n",
       "      <td>2</td>\n",
       "      <td>1</td>\n",
       "      <td>1</td>\n",
       "      <td>Cumings, Mrs. John Bradley (Florence Briggs Th...</td>\n",
       "      <td>female</td>\n",
       "      <td>38.0</td>\n",
       "      <td>1</td>\n",
       "      <td>0</td>\n",
       "      <td>PC 17599</td>\n",
       "      <td>71.2833</td>\n",
       "      <td>C85</td>\n",
       "      <td>C</td>\n",
       "    </tr>\n",
       "    <tr>\n",
       "      <th>2</th>\n",
       "      <td>3</td>\n",
       "      <td>1</td>\n",
       "      <td>3</td>\n",
       "      <td>Heikkinen, Miss. Laina</td>\n",
       "      <td>female</td>\n",
       "      <td>26.0</td>\n",
       "      <td>0</td>\n",
       "      <td>0</td>\n",
       "      <td>STON/O2. 3101282</td>\n",
       "      <td>7.9250</td>\n",
       "      <td>NaN</td>\n",
       "      <td>S</td>\n",
       "    </tr>\n",
       "    <tr>\n",
       "      <th>3</th>\n",
       "      <td>4</td>\n",
       "      <td>1</td>\n",
       "      <td>1</td>\n",
       "      <td>Futrelle, Mrs. Jacques Heath (Lily May Peel)</td>\n",
       "      <td>female</td>\n",
       "      <td>35.0</td>\n",
       "      <td>1</td>\n",
       "      <td>0</td>\n",
       "      <td>113803</td>\n",
       "      <td>53.1000</td>\n",
       "      <td>C123</td>\n",
       "      <td>S</td>\n",
       "    </tr>\n",
       "    <tr>\n",
       "      <th>4</th>\n",
       "      <td>5</td>\n",
       "      <td>0</td>\n",
       "      <td>3</td>\n",
       "      <td>Allen, Mr. William Henry</td>\n",
       "      <td>male</td>\n",
       "      <td>35.0</td>\n",
       "      <td>0</td>\n",
       "      <td>0</td>\n",
       "      <td>373450</td>\n",
       "      <td>8.0500</td>\n",
       "      <td>NaN</td>\n",
       "      <td>S</td>\n",
       "    </tr>\n",
       "  </tbody>\n",
       "</table>\n",
       "</div>"
      ],
      "text/plain": [
       "   PassengerId  Survived  Pclass  \\\n",
       "0            1         0       3   \n",
       "1            2         1       1   \n",
       "2            3         1       3   \n",
       "3            4         1       1   \n",
       "4            5         0       3   \n",
       "\n",
       "                                                Name     Sex   Age  SibSp  \\\n",
       "0                            Braund, Mr. Owen Harris    male  22.0      1   \n",
       "1  Cumings, Mrs. John Bradley (Florence Briggs Th...  female  38.0      1   \n",
       "2                             Heikkinen, Miss. Laina  female  26.0      0   \n",
       "3       Futrelle, Mrs. Jacques Heath (Lily May Peel)  female  35.0      1   \n",
       "4                           Allen, Mr. William Henry    male  35.0      0   \n",
       "\n",
       "   Parch            Ticket     Fare Cabin Embarked  \n",
       "0      0         A/5 21171   7.2500   NaN        S  \n",
       "1      0          PC 17599  71.2833   C85        C  \n",
       "2      0  STON/O2. 3101282   7.9250   NaN        S  \n",
       "3      0            113803  53.1000  C123        S  \n",
       "4      0            373450   8.0500   NaN        S  "
      ]
     },
     "execution_count": 2,
     "metadata": {},
     "output_type": "execute_result"
    }
   ],
   "source": [
    "train_data = pd.read_csv(\"/kaggle/input/titanic/train.csv\")\n",
    "train_data.head()"
   ]
  },
  {
   "cell_type": "code",
   "execution_count": 3,
   "id": "d5516318",
   "metadata": {
    "execution": {
     "iopub.execute_input": "2024-02-15T07:27:42.765918Z",
     "iopub.status.busy": "2024-02-15T07:27:42.765497Z",
     "iopub.status.idle": "2024-02-15T07:27:42.787546Z",
     "shell.execute_reply": "2024-02-15T07:27:42.786421Z"
    },
    "papermill": {
     "duration": 0.030545,
     "end_time": "2024-02-15T07:27:42.790566",
     "exception": false,
     "start_time": "2024-02-15T07:27:42.760021",
     "status": "completed"
    },
    "tags": []
   },
   "outputs": [
    {
     "data": {
      "text/html": [
       "<div>\n",
       "<style scoped>\n",
       "    .dataframe tbody tr th:only-of-type {\n",
       "        vertical-align: middle;\n",
       "    }\n",
       "\n",
       "    .dataframe tbody tr th {\n",
       "        vertical-align: top;\n",
       "    }\n",
       "\n",
       "    .dataframe thead th {\n",
       "        text-align: right;\n",
       "    }\n",
       "</style>\n",
       "<table border=\"1\" class=\"dataframe\">\n",
       "  <thead>\n",
       "    <tr style=\"text-align: right;\">\n",
       "      <th></th>\n",
       "      <th>PassengerId</th>\n",
       "      <th>Pclass</th>\n",
       "      <th>Name</th>\n",
       "      <th>Sex</th>\n",
       "      <th>Age</th>\n",
       "      <th>SibSp</th>\n",
       "      <th>Parch</th>\n",
       "      <th>Ticket</th>\n",
       "      <th>Fare</th>\n",
       "      <th>Cabin</th>\n",
       "      <th>Embarked</th>\n",
       "    </tr>\n",
       "  </thead>\n",
       "  <tbody>\n",
       "    <tr>\n",
       "      <th>0</th>\n",
       "      <td>892</td>\n",
       "      <td>3</td>\n",
       "      <td>Kelly, Mr. James</td>\n",
       "      <td>male</td>\n",
       "      <td>34.5</td>\n",
       "      <td>0</td>\n",
       "      <td>0</td>\n",
       "      <td>330911</td>\n",
       "      <td>7.8292</td>\n",
       "      <td>NaN</td>\n",
       "      <td>Q</td>\n",
       "    </tr>\n",
       "    <tr>\n",
       "      <th>1</th>\n",
       "      <td>893</td>\n",
       "      <td>3</td>\n",
       "      <td>Wilkes, Mrs. James (Ellen Needs)</td>\n",
       "      <td>female</td>\n",
       "      <td>47.0</td>\n",
       "      <td>1</td>\n",
       "      <td>0</td>\n",
       "      <td>363272</td>\n",
       "      <td>7.0000</td>\n",
       "      <td>NaN</td>\n",
       "      <td>S</td>\n",
       "    </tr>\n",
       "    <tr>\n",
       "      <th>2</th>\n",
       "      <td>894</td>\n",
       "      <td>2</td>\n",
       "      <td>Myles, Mr. Thomas Francis</td>\n",
       "      <td>male</td>\n",
       "      <td>62.0</td>\n",
       "      <td>0</td>\n",
       "      <td>0</td>\n",
       "      <td>240276</td>\n",
       "      <td>9.6875</td>\n",
       "      <td>NaN</td>\n",
       "      <td>Q</td>\n",
       "    </tr>\n",
       "    <tr>\n",
       "      <th>3</th>\n",
       "      <td>895</td>\n",
       "      <td>3</td>\n",
       "      <td>Wirz, Mr. Albert</td>\n",
       "      <td>male</td>\n",
       "      <td>27.0</td>\n",
       "      <td>0</td>\n",
       "      <td>0</td>\n",
       "      <td>315154</td>\n",
       "      <td>8.6625</td>\n",
       "      <td>NaN</td>\n",
       "      <td>S</td>\n",
       "    </tr>\n",
       "    <tr>\n",
       "      <th>4</th>\n",
       "      <td>896</td>\n",
       "      <td>3</td>\n",
       "      <td>Hirvonen, Mrs. Alexander (Helga E Lindqvist)</td>\n",
       "      <td>female</td>\n",
       "      <td>22.0</td>\n",
       "      <td>1</td>\n",
       "      <td>1</td>\n",
       "      <td>3101298</td>\n",
       "      <td>12.2875</td>\n",
       "      <td>NaN</td>\n",
       "      <td>S</td>\n",
       "    </tr>\n",
       "  </tbody>\n",
       "</table>\n",
       "</div>"
      ],
      "text/plain": [
       "   PassengerId  Pclass                                          Name     Sex  \\\n",
       "0          892       3                              Kelly, Mr. James    male   \n",
       "1          893       3              Wilkes, Mrs. James (Ellen Needs)  female   \n",
       "2          894       2                     Myles, Mr. Thomas Francis    male   \n",
       "3          895       3                              Wirz, Mr. Albert    male   \n",
       "4          896       3  Hirvonen, Mrs. Alexander (Helga E Lindqvist)  female   \n",
       "\n",
       "    Age  SibSp  Parch   Ticket     Fare Cabin Embarked  \n",
       "0  34.5      0      0   330911   7.8292   NaN        Q  \n",
       "1  47.0      1      0   363272   7.0000   NaN        S  \n",
       "2  62.0      0      0   240276   9.6875   NaN        Q  \n",
       "3  27.0      0      0   315154   8.6625   NaN        S  \n",
       "4  22.0      1      1  3101298  12.2875   NaN        S  "
      ]
     },
     "execution_count": 3,
     "metadata": {},
     "output_type": "execute_result"
    }
   ],
   "source": [
    "test_data = pd.read_csv(\"/kaggle/input/titanic/test.csv\")\n",
    "test_data.head()"
   ]
  },
  {
   "cell_type": "code",
   "execution_count": 4,
   "id": "38fd4107",
   "metadata": {
    "execution": {
     "iopub.execute_input": "2024-02-15T07:27:42.800797Z",
     "iopub.status.busy": "2024-02-15T07:27:42.799739Z",
     "iopub.status.idle": "2024-02-15T07:27:42.814918Z",
     "shell.execute_reply": "2024-02-15T07:27:42.813544Z"
    },
    "papermill": {
     "duration": 0.022764,
     "end_time": "2024-02-15T07:27:42.817353",
     "exception": false,
     "start_time": "2024-02-15T07:27:42.794589",
     "status": "completed"
    },
    "tags": []
   },
   "outputs": [
    {
     "data": {
      "text/html": [
       "<div>\n",
       "<style scoped>\n",
       "    .dataframe tbody tr th:only-of-type {\n",
       "        vertical-align: middle;\n",
       "    }\n",
       "\n",
       "    .dataframe tbody tr th {\n",
       "        vertical-align: top;\n",
       "    }\n",
       "\n",
       "    .dataframe thead th {\n",
       "        text-align: right;\n",
       "    }\n",
       "</style>\n",
       "<table border=\"1\" class=\"dataframe\">\n",
       "  <thead>\n",
       "    <tr style=\"text-align: right;\">\n",
       "      <th></th>\n",
       "      <th>PassengerId</th>\n",
       "      <th>Survived</th>\n",
       "    </tr>\n",
       "  </thead>\n",
       "  <tbody>\n",
       "    <tr>\n",
       "      <th>0</th>\n",
       "      <td>892</td>\n",
       "      <td>0</td>\n",
       "    </tr>\n",
       "    <tr>\n",
       "      <th>1</th>\n",
       "      <td>893</td>\n",
       "      <td>1</td>\n",
       "    </tr>\n",
       "    <tr>\n",
       "      <th>2</th>\n",
       "      <td>894</td>\n",
       "      <td>0</td>\n",
       "    </tr>\n",
       "    <tr>\n",
       "      <th>3</th>\n",
       "      <td>895</td>\n",
       "      <td>0</td>\n",
       "    </tr>\n",
       "    <tr>\n",
       "      <th>4</th>\n",
       "      <td>896</td>\n",
       "      <td>1</td>\n",
       "    </tr>\n",
       "  </tbody>\n",
       "</table>\n",
       "</div>"
      ],
      "text/plain": [
       "   PassengerId  Survived\n",
       "0          892         0\n",
       "1          893         1\n",
       "2          894         0\n",
       "3          895         0\n",
       "4          896         1"
      ]
     },
     "execution_count": 4,
     "metadata": {},
     "output_type": "execute_result"
    }
   ],
   "source": [
    "gender = pd.read_csv(\"/kaggle/input/titanic/gender_submission.csv\")\n",
    "gender.head()"
   ]
  },
  {
   "cell_type": "code",
   "execution_count": 5,
   "id": "69a56790",
   "metadata": {
    "execution": {
     "iopub.execute_input": "2024-02-15T07:27:42.829075Z",
     "iopub.status.busy": "2024-02-15T07:27:42.828154Z",
     "iopub.status.idle": "2024-02-15T07:27:42.841598Z",
     "shell.execute_reply": "2024-02-15T07:27:42.840496Z"
    },
    "papermill": {
     "duration": 0.021583,
     "end_time": "2024-02-15T07:27:42.844092",
     "exception": false,
     "start_time": "2024-02-15T07:27:42.822509",
     "status": "completed"
    },
    "tags": []
   },
   "outputs": [
    {
     "name": "stdout",
     "output_type": "stream",
     "text": [
      "% of women who survived: 0.7420382165605095\n"
     ]
    }
   ],
   "source": [
    "women = train_data.loc[train_data.Sex == 'female'][\"Survived\"]\n",
    "rate_women = sum(women)/len(women)\n",
    "\n",
    "print(\"% of women who survived:\", rate_women)"
   ]
  },
  {
   "cell_type": "code",
   "execution_count": 6,
   "id": "0e98b4a7",
   "metadata": {
    "execution": {
     "iopub.execute_input": "2024-02-15T07:27:42.854118Z",
     "iopub.status.busy": "2024-02-15T07:27:42.853731Z",
     "iopub.status.idle": "2024-02-15T07:27:42.860845Z",
     "shell.execute_reply": "2024-02-15T07:27:42.859702Z"
    },
    "papermill": {
     "duration": 0.014805,
     "end_time": "2024-02-15T07:27:42.863063",
     "exception": false,
     "start_time": "2024-02-15T07:27:42.848258",
     "status": "completed"
    },
    "tags": []
   },
   "outputs": [
    {
     "name": "stdout",
     "output_type": "stream",
     "text": [
      "% of women who survived: 0.18890814558058924\n"
     ]
    }
   ],
   "source": [
    "men = train_data.loc[train_data.Sex == 'male'][\"Survived\"]\n",
    "rate_men = sum(men)/len(men)\n",
    "\n",
    "print(\"% of women who survived:\", rate_men)"
   ]
  },
  {
   "cell_type": "code",
   "execution_count": 7,
   "id": "6ffd8323",
   "metadata": {
    "execution": {
     "iopub.execute_input": "2024-02-15T07:27:42.873769Z",
     "iopub.status.busy": "2024-02-15T07:27:42.873009Z",
     "iopub.status.idle": "2024-02-15T07:27:44.627224Z",
     "shell.execute_reply": "2024-02-15T07:27:44.625940Z"
    },
    "papermill": {
     "duration": 1.762475,
     "end_time": "2024-02-15T07:27:44.629906",
     "exception": false,
     "start_time": "2024-02-15T07:27:42.867431",
     "status": "completed"
    },
    "tags": []
   },
   "outputs": [],
   "source": [
    "from sklearn.ensemble import RandomForestClassifier\n",
    "\n",
    "y = train_data[\"Survived\"] \n",
    "#타깃변수인 \"Survived\" 열을 선택하여 y에 저장\n",
    "\n",
    "features = [\"Pclass\", \"Sex\", \"SibSp\", \"Parch\"] \n",
    "#모델에서 사용할 특성 변수들을 지정\n",
    "X = pd.get_dummies(train_data[features])\n",
    "#특성 변수들을 one-hot 인코딩하여 더미 변수로 변환 \n",
    "#이는 범주형 데이터를 모델에 사용하기 적합한 형태로 변환하는 과정\n",
    "X_test = pd.get_dummies(test_data[features])"
   ]
  },
  {
   "cell_type": "markdown",
   "id": "223d2397",
   "metadata": {
    "papermill": {
     "duration": 0.003878,
     "end_time": "2024-02-15T07:27:44.638049",
     "exception": false,
     "start_time": "2024-02-15T07:27:44.634171",
     "status": "completed"
    },
    "tags": []
   },
   "source": [
    "**특성 변수를 one-hot 인코딩하여 더미 변수로 변환**하는 것은 범주형 데이터를 모델이 이해할 수 있는 형태로 변환하는 과정. \n",
    "일반적으로 기계 학습 모델은 숫자 데이터를 입력으로 받기 때문에, 범주형 변수를 숫자로 변환해주어야 합니다. One-hot 인코딩은 이를 수행하는 일반적인 방법 중 하나입니다.\n",
    "\n",
    "예를 들어, \"Sex\" 특성이 'male'과 'female' 두 개의 범주를 가진 경우, one-hot 인코딩을 통해 새로운 더미 변수를 생성합니다. **각각의 더미 변수는 해당 범주에 속하는지 여부를 0 또는 1로 나타냅니다. 이렇게 하면 모델이 성별에 대한 정보를 숫자로 인식할 수 있게 됩니다.**\n",
    "\n",
    "예시:\n",
    "\n",
    "\"Sex\" 특성이 'male' 또는 'female'일 경우,\n",
    "\"Sex_male\": 1 (male인 경우)\n",
    "\"Sex_female\": 0 (male인 경우)\n",
    "또는\n",
    "\"Sex_male\": 0 (female인 경우)\n",
    "\"Sex_female\": 1 (female인 경우)\n",
    "이러한 방식으로 one-hot 인코딩을 적용하면 **각 범주형 변수가 별도의 더미 변수로 분리되어, 모델이 범주 정보를 이해하고 학습할 수 있게 됩니다.** \n",
    "**pandas의 get_dummies 함수**를 사용하면 이러한 변환을 쉽게 수행할 수 있습니다."
   ]
  },
  {
   "cell_type": "code",
   "execution_count": 8,
   "id": "daea951a",
   "metadata": {
    "execution": {
     "iopub.execute_input": "2024-02-15T07:27:44.649032Z",
     "iopub.status.busy": "2024-02-15T07:27:44.648129Z",
     "iopub.status.idle": "2024-02-15T07:27:44.851785Z",
     "shell.execute_reply": "2024-02-15T07:27:44.850626Z"
    },
    "papermill": {
     "duration": 0.211868,
     "end_time": "2024-02-15T07:27:44.854018",
     "exception": false,
     "start_time": "2024-02-15T07:27:44.642150",
     "status": "completed"
    },
    "tags": []
   },
   "outputs": [
    {
     "name": "stdout",
     "output_type": "stream",
     "text": [
      "Your submission was successfully saved!\n"
     ]
    }
   ],
   "source": [
    "model = RandomForestClassifier(n_estimators = 100, max_depth=5, random_state=1)\n",
    "model.fit(X,y)\n",
    "predictions = model.predict(X_test)\n",
    "\n",
    "output = pd.DataFrame({'PassengerId': test_data.PassengerId, 'Survived': predictions})\n",
    "output.to_csv('submission.csv', index=False)\n",
    "print(\"Your submission was successfully saved!\")"
   ]
  },
  {
   "cell_type": "markdown",
   "id": "e42db7fa",
   "metadata": {
    "papermill": {
     "duration": 0.00402,
     "end_time": "2024-02-15T07:27:44.862596",
     "exception": false,
     "start_time": "2024-02-15T07:27:44.858576",
     "status": "completed"
    },
    "tags": []
   },
   "source": [
    "RandomForestClassifier 모델을 생성합니다. 이 모델은 100개의 결정 트리를 사용하며, 각 트리의 최대 깊이는 5로 제한되어 있습니다. random_state는 랜덤 시드로, 재현성을 위해 설정된 값입니다.\n",
    "\n",
    "model.fit(X, y): 훈련 데이터 X와 타겟 변수 y를 사용하여 모델을 학습합니다.\n",
    "\n",
    "predictions = model.predict(X_test): 테스트 데이터 X_test를 사용하여 생존 여부를 예측합니다. 이 결과는 predictions 변수에 저장됩니다.\n",
    "\n",
    "output = pd.DataFrame({'PassengerId': test_data.PassengerId, 'Survived': predictions}): 예측 결과를 새로운 데이터프레임으로 만듭니다. 이 데이터프레임은 'PassengerId'와 모델의 예측 결과 'Survived'를 포함합니다.\n",
    "\n",
    "output.to_csv('submission.csv', index=False): CSV 파일로 결과를 저장합니다. 파일명은 'submission.csv'이며, 인덱스는 저장하지 않도록 설정되었습니다.\n",
    "\n",
    "print(\"Your submission was successfully saved!\"): 파일 저장이 성공적으로 완료되었음을 알리는 메시지를 출력합니다."
   ]
  }
 ],
 "metadata": {
  "kaggle": {
   "accelerator": "none",
   "dataSources": [
    {
     "databundleVersionId": 26502,
     "sourceId": 3136,
     "sourceType": "competition"
    }
   ],
   "dockerImageVersionId": 30646,
   "isGpuEnabled": false,
   "isInternetEnabled": false,
   "language": "python",
   "sourceType": "notebook"
  },
  "kernelspec": {
   "display_name": "Python 3",
   "language": "python",
   "name": "python3"
  },
  "language_info": {
   "codemirror_mode": {
    "name": "ipython",
    "version": 3
   },
   "file_extension": ".py",
   "mimetype": "text/x-python",
   "name": "python",
   "nbconvert_exporter": "python",
   "pygments_lexer": "ipython3",
   "version": "3.10.13"
  },
  "papermill": {
   "default_parameters": {},
   "duration": 6.723162,
   "end_time": "2024-02-15T07:27:45.489165",
   "environment_variables": {},
   "exception": null,
   "input_path": "__notebook__.ipynb",
   "output_path": "__notebook__.ipynb",
   "parameters": {},
   "start_time": "2024-02-15T07:27:38.766003",
   "version": "2.5.0"
  }
 },
 "nbformat": 4,
 "nbformat_minor": 5
}
